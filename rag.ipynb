{
 "cells": [
  {
   "cell_type": "code",
   "execution_count": 1,
   "metadata": {},
   "outputs": [],
   "source": [
    "#import OpenAI key with helper function\n",
    "from helper import get_openai_api_key\n",
    "\n",
    "OPENAI_API_KEY = get_openai_api_key()"
   ]
  },
  {
   "cell_type": "code",
   "execution_count": 2,
   "metadata": {},
   "outputs": [],
   "source": [
    "#A lot of modules use async and we want them to be compatible with Jupyter notebook\n",
    "import nest_asyncio\n",
    "\n",
    "nest_asyncio.apply()"
   ]
  },
  {
   "cell_type": "code",
   "execution_count": 15,
   "metadata": {},
   "outputs": [
    {
     "name": "stdout",
     "output_type": "stream",
     "text": [
      "['Ehlers-Danlos-1\\\\2024_EDS_1.pdf', 'Ehlers-Danlos-1\\\\2024_EDS_2.pdf', 'Ehlers-Danlos-1\\\\2024_EDS_3.pdf', 'Ehlers-Danlos-1\\\\2024_EDS_4.pdf', 'Ehlers-Danlos-1\\\\2024_EDS_5.pdf', 'Ehlers-Danlos-1\\\\2024_EDS_6.pdf', 'Ehlers-Danlos-1\\\\2024_EDS_7.pdf', 'Ehlers-Danlos-1\\\\Unknown_EDS_1.pdf', 'Ehlers-Danlos-1\\\\Unknown_EDS_2.pdf', 'Ehlers-Danlos-1\\\\Unknown_EDS_3.pdf', 'Ehlers-Danlos-1\\\\Unknown_EDS_4.pdf', 'Ehlers-Danlos-1\\\\Unknown_EDS_5.pdf']\n",
      "['2024_EDS_1.pdf', '2024_EDS_2.pdf', '2024_EDS_3.pdf', '2024_EDS_4.pdf', '2024_EDS_5.pdf', '2024_EDS_6.pdf', '2024_EDS_7.pdf', 'Unknown_EDS_1.pdf', 'Unknown_EDS_2.pdf', 'Unknown_EDS_3.pdf', 'Unknown_EDS_4.pdf', 'Unknown_EDS_5.pdf']\n"
     ]
    }
   ],
   "source": [
    "import os\n",
    "import glob\n",
    "\n",
    "# Define the path to the directory containing the PDF files\n",
    "folder_path = 'Ehlers-Danlos-1'\n",
    "\n",
    "# Get the list of all PDF files in the directory\n",
    "pdf_files = glob.glob(os.path.join(folder_path, '*.pdf'))\n",
    "print(pdf_files)\n",
    "\n",
    "# Extract just the filenames (optional)\n",
    "pdf_filenames = [os.path.basename(pdf) for pdf in pdf_files]\n",
    "\n",
    "# Print the list of PDF filenames\n",
    "print(pdf_filenames)\n"
   ]
  },
  {
   "cell_type": "code",
   "execution_count": 17,
   "metadata": {},
   "outputs": [
    {
     "name": "stdout",
     "output_type": "stream",
     "text": [
      "Getting tools for paper: Ehlers-Danlos-1\\2024_EDS_1.pdf\n",
      "Getting tools for paper: Ehlers-Danlos-1\\2024_EDS_2.pdf\n",
      "Getting tools for paper: Ehlers-Danlos-1\\2024_EDS_3.pdf\n",
      "Getting tools for paper: Ehlers-Danlos-1\\2024_EDS_4.pdf\n",
      "Getting tools for paper: Ehlers-Danlos-1\\2024_EDS_5.pdf\n",
      "Getting tools for paper: Ehlers-Danlos-1\\2024_EDS_6.pdf\n",
      "Getting tools for paper: Ehlers-Danlos-1\\2024_EDS_7.pdf\n",
      "Getting tools for paper: Ehlers-Danlos-1\\Unknown_EDS_1.pdf\n",
      "Getting tools for paper: Ehlers-Danlos-1\\Unknown_EDS_2.pdf\n",
      "Getting tools for paper: Ehlers-Danlos-1\\Unknown_EDS_3.pdf\n",
      "Getting tools for paper: Ehlers-Danlos-1\\Unknown_EDS_4.pdf\n",
      "Getting tools for paper: Ehlers-Danlos-1\\Unknown_EDS_5.pdf\n"
     ]
    }
   ],
   "source": [
    "from utils import get_doc_tools\n",
    "from pathlib import Path\n",
    "\n",
    "# Ensure function names are within the allowed length limit\n",
    "def truncate_function_name(name, max_length=64):\n",
    "    return name if len(name) <= max_length else name[:max_length]\n",
    "\n",
    "paper_to_tools_dict = {}\n",
    "for pdf in pdf_files:\n",
    "    print(f\"Getting tools for paper: {pdf}\")\n",
    "    vector_tool, summary_tool = get_doc_tools(pdf, Path(pdf).stem)\n",
    "    #vector_tool, summary_tool = get_doc_tools(pdf, truncate_function_name(Path(pdf).stem))\n",
    "    paper_to_tools_dict[pdf] = [vector_tool, summary_tool]\n",
    "    #print(vector_tool)\n",
    "    #print(summary_tool)"
   ]
  },
  {
   "cell_type": "code",
   "execution_count": 18,
   "metadata": {},
   "outputs": [],
   "source": [
    "all_tools = [t for pdf in pdf_files for t in paper_to_tools_dict[pdf]]\n",
    "#all_tools = [truncate_function_name(tool) for tool in all_tools]\n"
   ]
  },
  {
   "cell_type": "code",
   "execution_count": 19,
   "metadata": {},
   "outputs": [],
   "source": [
    "# define an \"object\" index and retriever over these tools\n",
    "from llama_index.core import VectorStoreIndex\n",
    "from llama_index.core.objects import ObjectIndex\n",
    "\n",
    "obj_index = ObjectIndex.from_objects(\n",
    "    all_tools,\n",
    "    index_cls=VectorStoreIndex,\n",
    ")"
   ]
  },
  {
   "cell_type": "code",
   "execution_count": 20,
   "metadata": {},
   "outputs": [],
   "source": [
    "obj_retriever = obj_index.as_retriever(similarity_top_k=3)\n"
   ]
  },
  {
   "cell_type": "code",
   "execution_count": 21,
   "metadata": {},
   "outputs": [],
   "source": [
    "tools = obj_retriever.retrieve(\n",
    "    \"How do I tell if someone has EDS?\"\n",
    ")"
   ]
  },
  {
   "cell_type": "code",
   "execution_count": 22,
   "metadata": {},
   "outputs": [
    {
     "name": "stdout",
     "output_type": "stream",
     "text": [
      "3\n"
     ]
    },
    {
     "data": {
      "text/plain": [
       "ToolMetadata(description='Useful for summarization questions related to Unknown_EDS_3', name='summary_tool_Unknown_EDS_3', fn_schema=<class 'llama_index.core.tools.types.DefaultToolFnSchema'>, return_direct=False)"
      ]
     },
     "execution_count": 22,
     "metadata": {},
     "output_type": "execute_result"
    }
   ],
   "source": [
    "print(len(tools))\n",
    "tools[2].metadata\n"
   ]
  },
  {
   "cell_type": "code",
   "execution_count": 23,
   "metadata": {},
   "outputs": [],
   "source": [
    "from llama_index.llms.openai import OpenAI\n",
    "\n",
    "llm = OpenAI(model=\"gpt-3.5-turbo\")"
   ]
  },
  {
   "cell_type": "code",
   "execution_count": 24,
   "metadata": {},
   "outputs": [],
   "source": [
    "from llama_index.core.agent import FunctionCallingAgentWorker\n",
    "from llama_index.core.agent import AgentRunner\n",
    "\n",
    "agent_worker = FunctionCallingAgentWorker.from_tools(\n",
    "    tool_retriever=obj_retriever,\n",
    "    llm=llm, \n",
    "    verbose=True\n",
    ")\n",
    "agent = AgentRunner(agent_worker)"
   ]
  },
  {
   "cell_type": "code",
   "execution_count": 25,
   "metadata": {},
   "outputs": [
    {
     "name": "stdout",
     "output_type": "stream",
     "text": [
      "Added user message to memory: How do I tell if someone has EDS?\n",
      "=== LLM Response ===\n",
      "To determine if someone has Ehlers-Danlos syndrome (EDS), a healthcare professional typically conducts a thorough medical evaluation. The diagnosis of EDS involves a combination of clinical assessment, family history review, physical examination, and sometimes genetic testing. Here are some common steps involved in diagnosing EDS:\n",
      "\n",
      "1. **Medical History**: The healthcare provider will ask about the individual's symptoms, medical history, and family history of EDS or related conditions.\n",
      "\n",
      "2. **Physical Examination**: A comprehensive physical examination will be conducted to assess joint flexibility, skin elasticity, and other physical features associated with EDS.\n",
      "\n",
      "3. **Beighton Score**: The Beighton score is often used to evaluate joint hypermobility. It involves assessing the flexibility of specific joints through a series of movements.\n",
      "\n",
      "4. **Genetic Testing**: In some cases, genetic testing may be recommended to identify specific gene mutations associated with EDS. This is particularly relevant for certain subtypes of EDS.\n",
      "\n",
      "5. **Collagen Testing**: In some cases, a skin biopsy may be performed to analyze collagen production and structure.\n",
      "\n",
      "6. **Consultation with Specialists**: Depending on the symptoms and subtype suspected, individuals may be referred to specialists such as geneticists, rheumatologists, or dermatologists for further evaluation.\n",
      "\n",
      "It's important to consult a healthcare professional for an accurate diagnosis and appropriate management of EDS. If you suspect that someone may have EDS, encourage them to seek medical advice for proper evaluation and care.\n",
      "To determine if someone has Ehlers-Danlos syndrome (EDS), a healthcare professional typically conducts a thorough medical evaluation. The diagnosis of EDS involves a combination of clinical assessment, family history review, physical examination, and sometimes genetic testing. Here are some common steps involved in diagnosing EDS:\n",
      "\n",
      "1. **Medical History**: The healthcare provider will ask about the individual's symptoms, medical history, and family history of EDS or related conditions.\n",
      "\n",
      "2. **Physical Examination**: A comprehensive physical examination will be conducted to assess joint flexibility, skin elasticity, and other physical features associated with EDS.\n",
      "\n",
      "3. **Beighton Score**: The Beighton score is often used to evaluate joint hypermobility. It involves assessing the flexibility of specific joints through a series of movements.\n",
      "\n",
      "4. **Genetic Testing**: In some cases, genetic testing may be recommended to identify specific gene mutations associated with EDS. This is particularly relevant for certain subtypes of EDS.\n",
      "\n",
      "5. **Collagen Testing**: In some cases, a skin biopsy may be performed to analyze collagen production and structure.\n",
      "\n",
      "6. **Consultation with Specialists**: Depending on the symptoms and subtype suspected, individuals may be referred to specialists such as geneticists, rheumatologists, or dermatologists for further evaluation.\n",
      "\n",
      "It's important to consult a healthcare professional for an accurate diagnosis and appropriate management of EDS. If you suspect that someone may have EDS, encourage them to seek medical advice for proper evaluation and care.\n"
     ]
    }
   ],
   "source": [
    "\n",
    "response = agent.query(\n",
    "    \"How do I tell if someone has EDS?\"\n",
    ")\n",
    "print(str(response))"
   ]
  }
 ],
 "metadata": {
  "kernelspec": {
   "display_name": "Python 3 (ipykernel)",
   "language": "python",
   "name": "python3"
  },
  "language_info": {
   "codemirror_mode": {
    "name": "ipython",
    "version": 3
   },
   "file_extension": ".py",
   "mimetype": "text/x-python",
   "name": "python",
   "nbconvert_exporter": "python",
   "pygments_lexer": "ipython3",
   "version": "3.12.3"
  }
 },
 "nbformat": 4,
 "nbformat_minor": 2
}
